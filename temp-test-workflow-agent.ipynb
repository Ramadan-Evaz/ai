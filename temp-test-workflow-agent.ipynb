{
 "cells": [
  {
   "cell_type": "code",
   "execution_count": 1,
   "metadata": {},
   "outputs": [],
   "source": [
    "%load_ext autoreload\n",
    "%autoreload 2"
   ]
  },
  {
   "cell_type": "code",
   "execution_count": 2,
   "metadata": {},
   "outputs": [],
   "source": [
    "from config import get_settings\n",
    "from dotenv import load_dotenv\n",
    "\n",
    "from agents.ansari_workflow import AnsariWorkflow"
   ]
  },
  {
   "cell_type": "code",
   "execution_count": 6,
   "metadata": {},
   "outputs": [
    {
     "data": {
      "text/plain": [
       "True"
      ]
     },
     "execution_count": 6,
     "metadata": {},
     "output_type": "execute_result"
    }
   ],
   "source": [
    "load_dotenv(\"abandoned/.env\")"
   ]
  },
  {
   "cell_type": "code",
   "execution_count": 7,
   "metadata": {},
   "outputs": [],
   "source": [
    "settings = get_settings()\n",
    "ansari = AnsariWorkflow(settings)"
   ]
  },
  {
   "cell_type": "code",
   "execution_count": 8,
   "metadata": {},
   "outputs": [],
   "source": [
    "workflow_steps = [\n",
    "    (\"gen_query\", {\"input\": \"what is the meaning of life?\", \"target_corpus\": \"mawsuah\"}),\n",
    "    (\"search\", {\"query_from_prev_output_index\": 0, \"tool_name\": \"search_mawsuah\"}),\n",
    "    (\"gen_answer\", {\"input\": \"what is the meaning of life?\", \"search_results_indices\": [1]}),\n",
    "]\n",
    "output = ansari.execute_workflow(workflow_steps)"
   ]
  },
  {
   "cell_type": "code",
   "execution_count": 9,
   "metadata": {},
   "outputs": [
    {
     "name": "stdout",
     "output_type": "stream",
     "text": [
      "('In Islam, the meaning of life is deeply rooted in the worship and servitude '\n",
      " 'to Allah (God). The Quran states, \"وَمَا خَلَقْتُ الْجِنَّ وَالْإِنسَ إِلَّا '\n",
      " 'لِيَعْبُدُونِ\" (Surah Adh-Dhariyat, 51:56), which translates to \"And I did '\n",
      " 'not create the jinn and mankind except to worship Me.\" This verse highlights '\n",
      " 'that the primary purpose of human existence is to worship Allah, which '\n",
      " 'encompasses not only ritual acts of worship but also living a life in '\n",
      " 'accordance with His guidance and commands.\\n'\n",
      " '\\n'\n",
      " 'Renowned scholars like Imam Al-Ghazali and Ibn Taymiyah have elaborated on '\n",
      " 'this concept, emphasizing that true fulfillment and happiness come from '\n",
      " \"aligning one's life with the divine will. Worship in Islam is comprehensive, \"\n",
      " 'including acts of kindness, justice, and seeking knowledge, all of which '\n",
      " 'contribute to a meaningful life.\\n'\n",
      " '\\n'\n",
      " \"Thus, the meaning of life in Islam is to recognize and fulfill one's role as \"\n",
      " 'a servant of Allah, striving for righteousness and seeking His pleasure in '\n",
      " 'all aspects of life.')\n"
     ]
    }
   ],
   "source": [
    "from pprint import pprint\n",
    "\n",
    "pprint(output[2])"
   ]
  },
  {
   "cell_type": "code",
   "execution_count": null,
   "metadata": {},
   "outputs": [],
   "source": []
  },
  {
   "cell_type": "code",
   "execution_count": null,
   "metadata": {},
   "outputs": [],
   "source": []
  }
 ],
 "metadata": {
  "kernelspec": {
   "display_name": "base",
   "language": "python",
   "name": "python3"
  },
  "language_info": {
   "codemirror_mode": {
    "name": "ipython",
    "version": 3
   },
   "file_extension": ".py",
   "mimetype": "text/x-python",
   "name": "python",
   "nbconvert_exporter": "python",
   "pygments_lexer": "ipython3",
   "version": "3.12.5"
  }
 },
 "nbformat": 4,
 "nbformat_minor": 2
}
